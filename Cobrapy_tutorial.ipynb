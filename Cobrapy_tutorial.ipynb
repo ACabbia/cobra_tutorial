{
 "cells": [
  {
   "cell_type": "markdown",
   "metadata": {},
   "source": [
    "# COBRApy tutorial\n",
    "\n",
    "This tutorial is intended to cover the basics of cobrapy usage. It is derived from cobra documentation, available __[here](https://cobrapy.readthedocs.io/en/latest/index.html)__\n",
    "\n",
    "\n",
    "# 1) Getting Started:\n",
    "\n",
    "### 1.1) Load and inspect a model\n",
    "\n",
    "To demonstrate this first example we will use a small test model, which is already included in the COBRA packeage inside the `cobra.test` module: \n",
    "\n",
    "The function to read and load a SBML model is instead located in the `cobra.io` module  "
   ]
  },
  {
   "cell_type": "code",
   "execution_count": 1,
   "metadata": {},
   "outputs": [],
   "source": [
    "import cobra\n",
    "import cobra.test  # <- explicitly import cobra.test or it will not work\n",
    "from os.path import join\n",
    "\n",
    "data_dir = cobra.test.data_dir\n",
    "model = cobra.io.read_sbml_model(join(data_dir, \"mini_fbc2.xml\"))\n"
   ]
  },
  {
   "cell_type": "markdown",
   "metadata": {},
   "source": [
    "Try to run `read_sbml_model()` function, changing the argument to match the path where you saved your model ( Recon2 or SKM )  "
   ]
  },
  {
   "cell_type": "markdown",
   "metadata": {},
   "source": [
    "The model has several \"attributes\", that are accessed through the dot notation:"
   ]
  },
  {
   "cell_type": "code",
   "execution_count": null,
   "metadata": {},
   "outputs": [],
   "source": [
    "model.  # <-- press <TAB> key to inspect model attributes"
   ]
  },
  {
   "cell_type": "markdown",
   "metadata": {},
   "source": [
    "`model.reactions`, `model.metabolites` and `model.genes` are attributes that contain lists of `cobra.Reaction`, `cobra.Metabolite` and `cobra.Gene` objects respectively:"
   ]
  },
  {
   "cell_type": "code",
   "execution_count": 2,
   "metadata": {},
   "outputs": [
    {
     "name": "stdout",
     "output_type": "stream",
     "text": [
      "18\n",
      "23\n",
      "31\n"
     ]
    }
   ],
   "source": [
    "print(len(model.reactions))\n",
    "print(len(model.metabolites))\n",
    "print(len(model.genes))"
   ]
  },
  {
   "cell_type": "markdown",
   "metadata": {},
   "source": [
    "We can inspect the content of these list with a for loop: "
   ]
  },
  {
   "cell_type": "code",
   "execution_count": 3,
   "metadata": {},
   "outputs": [
    {
     "name": "stdout",
     "output_type": "stream",
     "text": [
      "13dpg_c\n",
      "2pg_c\n",
      "3pg_c\n",
      "adp_c\n",
      "atp_c\n",
      "dhap_c\n",
      "f6p_c\n",
      "fdp_c\n",
      "g3p_c\n",
      "g6p_c\n",
      "glc__D_e\n",
      "h2o_c\n",
      "h2o_e\n",
      "h_c\n",
      "h_e\n",
      "lac__D_c\n",
      "lac__D_e\n",
      "nad_c\n",
      "nadh_c\n",
      "pep_c\n",
      "pi_c\n",
      "pi_e\n",
      "pyr_c\n"
     ]
    }
   ],
   "source": [
    "for m in model.metabolites: print(m)"
   ]
  },
  {
   "cell_type": "raw",
   "metadata": {},
   "source": [
    "COBRA models use a particular notation for metabolites ID, consisting of an abbbraviated form of the metabolite name and an abbreviation of the cellular compartment where the metabolite is located.\n",
    "\n",
    "To see a list of the compartments included in the model type: "
   ]
  },
  {
   "cell_type": "code",
   "execution_count": 4,
   "metadata": {},
   "outputs": [
    {
     "data": {
      "text/plain": [
       "{'c': 'cytosol', 'e': 'extracellular'}"
      ]
     },
     "execution_count": 4,
     "metadata": {},
     "output_type": "execute_result"
    }
   ],
   "source": [
    "model.compartments\n"
   ]
  },
  {
   "cell_type": "markdown",
   "metadata": {},
   "source": [
    "This small example model only has two compartments: cytosol and extracellular. \n",
    "\n",
    "Models describing more complex organisms will have more compartments:"
   ]
  },
  {
   "cell_type": "code",
   "execution_count": 5,
   "metadata": {},
   "outputs": [
    {
     "data": {
      "text/plain": [
       "{'c': 'Cytoplasm', 'e': 'Extracellular', 'p': 'Periplasm'}"
      ]
     },
     "execution_count": 5,
     "metadata": {},
     "output_type": "execute_result"
    }
   ],
   "source": [
    "ecoli_model = cobra.test.create_test_model(\"ecoli\")\n",
    "ecoli_model.compartments"
   ]
  },
  {
   "cell_type": "markdown",
   "metadata": {},
   "source": [
    "### 1.2) Metabolites\n",
    "\n",
    "Reaction and Metabolites objects can be retrieved by their 'ID' using the .get_by_id() function:"
   ]
  },
  {
   "cell_type": "code",
   "execution_count": 8,
   "metadata": {},
   "outputs": [],
   "source": [
    "nadh = model.metabolites.get_by_id('nadh_c')"
   ]
  },
  {
   "cell_type": "markdown",
   "metadata": {},
   "source": [
    "Metabolite object stores information like the metabolite's full name , compartment, charge and formula:\n"
   ]
  },
  {
   "cell_type": "code",
   "execution_count": 11,
   "metadata": {
    "scrolled": true
   },
   "outputs": [
    {
     "name": "stdout",
     "output_type": "stream",
     "text": [
      "Nicotinamide adenine dinucleotide - reduced\n",
      "c\n",
      "-2\n",
      "C21H27N7O14P2\n"
     ]
    }
   ],
   "source": [
    "print(nadh.name)\n",
    "print(nadh.compartment)\n",
    "print(nadh.charge)\n",
    "print(nadh.formula)"
   ]
  },
  {
   "cell_type": "markdown",
   "metadata": {},
   "source": [
    "or we can view in which reactions nadh is involved:"
   ]
  },
  {
   "cell_type": "code",
   "execution_count": 13,
   "metadata": {},
   "outputs": [
    {
     "data": {
      "text/plain": [
       "frozenset({<Reaction GAPD at 0x7f78bccd7990>,\n",
       "           <Reaction LDH_D at 0x7f78bccd7a90>})"
      ]
     },
     "execution_count": 13,
     "metadata": {},
     "output_type": "execute_result"
    }
   ],
   "source": [
    "nadh.reactions"
   ]
  },
  {
   "cell_type": "markdown",
   "metadata": {},
   "source": [
    "### 1.3) Reactions\n",
    "\n",
    "Working with reactions objects is similar:\n",
    "We can access them by ID:"
   ]
  },
  {
   "cell_type": "code",
   "execution_count": 15,
   "metadata": {},
   "outputs": [],
   "source": [
    "PYK = model.reactions.get_by_id('PYK')"
   ]
  },
  {
   "cell_type": "markdown",
   "metadata": {},
   "source": [
    "The object stores informations like  reaction's full name , reaction catalyzed and reversibility:"
   ]
  },
  {
   "cell_type": "code",
   "execution_count": 16,
   "metadata": {},
   "outputs": [
    {
     "name": "stdout",
     "output_type": "stream",
     "text": [
      "pyruvate kinase\n",
      "adp_c + h_c + pep_c --> atp_c + pyr_c\n",
      "False\n"
     ]
    }
   ],
   "source": [
    "print(PYK.name)\n",
    "print(PYK.reaction)\n",
    "print(PYK.reversibility)"
   ]
  },
  {
   "cell_type": "markdown",
   "metadata": {},
   "source": [
    "We can also view ( and change ) reactions' bounds:"
   ]
  },
  {
   "cell_type": "code",
   "execution_count": 19,
   "metadata": {},
   "outputs": [
    {
     "name": "stdout",
     "output_type": "stream",
     "text": [
      "(-500, 500)\n"
     ]
    }
   ],
   "source": [
    "print(PYK.bounds)\n",
    "PYK.bounds = -500 , 500"
   ]
  },
  {
   "cell_type": "code",
   "execution_count": null,
   "metadata": {},
   "outputs": [],
   "source": [
    "PYK.bounds = -500 , 500\n",
    "print(PYK.bounds)"
   ]
  },
  {
   "cell_type": "markdown",
   "metadata": {},
   "source": [
    "# 2) Building and expanding a model:\n",
    "\n",
    "This example demonstrates how to create metabolites and reaction objects, and how to add them to a empty test model.\n",
    "First, create the empty test model:"
   ]
  },
  {
   "cell_type": "code",
   "execution_count": 2,
   "metadata": {},
   "outputs": [],
   "source": [
    "from cobra import Model,Metabolite,Reaction\n",
    "test_model = Model(\"test model\")"
   ]
  },
  {
   "cell_type": "markdown",
   "metadata": {},
   "source": [
    "Create a Reaction object (Pyruvate Dehidrogenase) and define its attributes:"
   ]
  },
  {
   "cell_type": "code",
   "execution_count": null,
   "metadata": {},
   "outputs": [],
   "source": [
    "PDH = Reaction(id = \"PDH\", \n",
    "               name = \"Pyruvate dehidrogenase\", \n",
    "               subsystem = \"central carbon metabolism\",\n",
    "               lower_bound = 0, \n",
    "               upper_bound = 1000)"
   ]
  },
  {
   "cell_type": "markdown",
   "metadata": {},
   "source": [
    "We need to create metabolites objects as well. \n",
    "If we were using an existing model, we could use `model.metabolites.get_by_id()` to get the appropriate Metabolite objects instead."
   ]
  },
  {
   "cell_type": "code",
   "execution_count": null,
   "metadata": {},
   "outputs": [],
   "source": [
    "accoa = Metabolite(id = 'accoa_c',\n",
    "                   name = 'Acetyl-CoA',\n",
    "                   compartment = 'c')\n",
    "\n",
    "co2 = Metabolite(id = 'co2_c',\n",
    "                   name = 'CO2',\n",
    "                   compartment = 'c')\n",
    "\n",
    "coa = Metabolite(id = 'coa_c',\n",
    "                   name = 'Co-enzyme A',\n",
    "                   compartment = 'c')\n",
    "\n",
    "nad = Metabolite(id = 'nad_c',\n",
    "                   name = 'Nicotinamide adenine dinucleotide',\n",
    "                   compartment = 'c')\n",
    "\n",
    "nadh = Metabolite(id = 'nadh_c',\n",
    "                   name = 'Nicotinamide adenine dinucleotide - reduced',\n",
    "                   compartment = 'c')\n",
    "\n",
    "pyr = Metabolite(id = 'pyr_c',\n",
    "                   name = 'pyruvate',\n",
    "                   compartment = 'c')"
   ]
  },
  {
   "cell_type": "markdown",
   "metadata": {},
   "source": [
    "Add the metabolites and their coefficients to the Reaction object: \n",
    "Attention! This function needs a dict as argument:  { x : y , ... } "
   ]
  },
  {
   "cell_type": "code",
   "execution_count": null,
   "metadata": {},
   "outputs": [],
   "source": [
    "PDH.add_metabolites({ \n",
    "        coa   : -1,\n",
    "        nad   : -1,\n",
    "        pyr   : -1,\n",
    "        accoa :  1,\n",
    "        co2   :  1,\n",
    "        nadh  :  1,\n",
    "        })"
   ]
  },
  {
   "cell_type": "markdown",
   "metadata": {},
   "source": [
    "At this point the model is still empty:"
   ]
  },
  {
   "cell_type": "code",
   "execution_count": null,
   "metadata": {},
   "outputs": [],
   "source": [
    "print('%i reactions initially' % len(test_model.reactions))\n",
    "print('%i metabolites initially' % len(test_model.metabolites))"
   ]
  },
  {
   "cell_type": "markdown",
   "metadata": {},
   "source": [
    "When we add the reaction to the model, it will also add all associated metabolites:"
   ]
  },
  {
   "cell_type": "code",
   "execution_count": null,
   "metadata": {},
   "outputs": [],
   "source": [
    "test_model.add_reaction(PDH)\n",
    "\n",
    "print('%i reaction' % len(test_model.reactions))\n",
    "print('%i metabolites' % len(test_model.metabolites))"
   ]
  },
  {
   "cell_type": "markdown",
   "metadata": {},
   "source": [
    "# 3) Flux Balance Analysis"
   ]
  },
  {
   "cell_type": "markdown",
   "metadata": {},
   "source": [
    "In this example we will use a e.coli model: "
   ]
  },
  {
   "cell_type": "code",
   "execution_count": 26,
   "metadata": {},
   "outputs": [],
   "source": [
    "import cobra.test\n",
    "model = cobra.test.create_test_model(\"ecoli\")"
   ]
  },
  {
   "cell_type": "markdown",
   "metadata": {},
   "source": [
    "We set the objective function:"
   ]
  },
  {
   "cell_type": "code",
   "execution_count": 27,
   "metadata": {},
   "outputs": [],
   "source": [
    "model.objective = 'Ec_biomass_iJO1366_WT_53p95M'"
   ]
  },
  {
   "cell_type": "markdown",
   "metadata": {},
   "source": [
    "... and set the LP solver:\n",
    "\n",
    "if you installed gurobi on your PC as indicated in the installation tutorial, you can set it in this way: "
   ]
  },
  {
   "cell_type": "code",
   "execution_count": 28,
   "metadata": {},
   "outputs": [],
   "source": [
    "model.solver = 'glpk' # or 'gurobi'"
   ]
  },
  {
   "cell_type": "markdown",
   "metadata": {},
   "source": [
    "FBA optimization problem can be solved calling `model.optimize()`. \n",
    "This will maximize or minimize (maximizing is the default) flux through the objective reaction."
   ]
  },
  {
   "cell_type": "code",
   "execution_count": 37,
   "metadata": {},
   "outputs": [],
   "source": [
    "solution = model.optimize()"
   ]
  },
  {
   "cell_type": "markdown",
   "metadata": {},
   "source": [
    "`model.optimize()` will return a Solution object. A solution object has several attributes:"
   ]
  },
  {
   "cell_type": "code",
   "execution_count": 30,
   "metadata": {},
   "outputs": [
    {
     "name": "stdout",
     "output_type": "stream",
     "text": [
      "('Obj.value = ', 0.9865144469529751)\n",
      "------------------------\n",
      "DM_4CRSOL                         0.000220\n",
      "DM_5DRIB                          0.000228\n",
      "DM_AACALD                         0.000000\n",
      "DM_AMOB                           0.000002\n",
      "DM_MTHTHF                         0.001322\n",
      "DM_OXAM                           0.000000\n",
      "Ec_biomass_iJO1366_WT_53p95M      0.986514\n",
      "Ec_biomass_iJO1366_core_53p95M    0.000000\n",
      "EX_12ppd__R_e                     0.000000\n",
      "EX_12ppd__S_e                     0.000000\n",
      "Name: fluxes, dtype: float64\n",
      "------------------------\n",
      "('solution is :', 'optimal')\n"
     ]
    }
   ],
   "source": [
    "#the objective value\n",
    "print('Obj.value = ', solution.objective_value)\n",
    "\n",
    "print('------------------------')\n",
    "#the flux distribution\n",
    "print(solution.fluxes.head(10)) # <---- head(10) prints only first 10 fluxes\n",
    "\n",
    "print('------------------------')\n",
    "# solver status (e.g. 'optimal' or 'unfeasible')\n",
    "print('solution is :',  solution.status)"
   ]
  },
  {
   "cell_type": "markdown",
   "metadata": {},
   "source": [
    "# 4) Inspecting FBA solution\n",
    "\n",
    "The summary() method displays information on the input and output behavior of the model, along with the optimized objective:"
   ]
  },
  {
   "cell_type": "code",
   "execution_count": 32,
   "metadata": {},
   "outputs": [
    {
     "name": "stdout",
     "output_type": "stream",
     "text": [
      "IN FLUXES             OUT FLUXES           OBJECTIVES\n",
      "--------------------  -------------------  ----------------------\n",
      "o2_e       17.6       h2o_e     45.1       Ec_biomass_i...  0.987\n",
      "nh4_e      10.4       co2_e     19.7\n",
      "glc__D_e   10         h_e        8.75\n",
      "pi_e        0.915     5mtr_e     0.00665\n",
      "so4_e       0.249     mththf_c   0.00132\n",
      "k_e         0.183     5drib_c    0.000228\n",
      "fe2_e       0.0153    4crsol_c   0.00022\n",
      "mg2_e       0.00814   amob_c     2e-06\n",
      "ca2_e       0.00488   meoh_e     2e-06\n",
      "cl_e        0.00488\n",
      "cu2_e       0.000665\n",
      "mn2_e       0.000649\n",
      "zn2_e       0.00032\n",
      "ni2_e       0.000303\n",
      "cbl1_e      0.00022\n",
      "mobd_e      0.000135\n",
      "cobalt2_e   2.4e-05\n"
     ]
    }
   ],
   "source": [
    "model.summary()  #<--- must be called AFTER model.optimize() "
   ]
  },
  {
   "cell_type": "markdown",
   "metadata": {},
   "source": [
    "Input-output behavior of individual metabolites can also be inspected. \n",
    "\n",
    "E.g. Checking (cytosolic) NADH behavior can be useful to inspect the redox balance of the cell:"
   ]
  },
  {
   "cell_type": "code",
   "execution_count": 33,
   "metadata": {},
   "outputs": [
    {
     "name": "stdout",
     "output_type": "stream",
     "text": [
      "PRODUCING REACTIONS -- Nicotinamide adenine dinucleotide - reduced (nadh_c)\n",
      "---------------------------------------------------------------------------\n",
      "%       FLUX  RXN ID    REACTION\n",
      "---  -------  --------  --------------------------------------------------\n",
      "45%  15.9     GAPD      g3p_c + nad_c + pi_c <=> 13dpg_c + h_c + nadh_c\n",
      "22%   7.85    PDH       coa_c + nad_c + pyr_c --> accoa_c + co2_c + nadh_c\n",
      "14%   4.93    MDH       mal__L_c + nad_c <=> h_c + nadh_c + oaa_c\n",
      "11%   3.93    AKGDH     akg_c + coa_c + nad_c --> co2_c + nadh_c + succ...\n",
      "5%    1.62    PGCD      3pg_c + nad_c --> 3php_c + h_c + nadh_c\n",
      "1%    0.432   IPMD      3c2hmp_c + nad_c --> 3c4mop_c + h_c + nadh_c\n",
      "1%    0.233   IMPD      h2o_c + imp_c + nad_c --> h_c + nadh_c + xmp_c\n",
      "1%    0.182   HISTD     h2o_c + histd_c + 2.0 nad_c --> 3.0 h_c + his__...\n",
      "0%    0.132   PPND      nad_c + pphn_c --> 34hpp_c + co2_c + nadh_c\n",
      "0%    0.0554  GLYCL     gly_c + nad_c + thf_c --> co2_c + mlthf_c + nad...\n",
      "\n",
      "CONSUMING REACTIONS -- Nicotinamide adenine dinucleotide - reduced (nadh_c)\n",
      "---------------------------------------------------------------------------\n",
      "%       FLUX  RXN ID    REACTION\n",
      "---  -------  --------  --------------------------------------------------\n",
      "88%  31       NADH16pp  4.0 h_c + nadh_c + q8_c --> 3.0 h_p + nad_c + q...\n",
      "6%    1.98    FADRx     fad_c + h_c + nadh_c --> fadh2_c + nad_c\n",
      "1%    0.309   HACD1     aacoa_c + h_c + nadh_c <=> 3hbcoa_c + nad_c\n",
      "1%    0.309   HACD2     3ohcoa_c + h_c + nadh_c <=> 3hhcoa_c + nad_c\n",
      "1%    0.309   HACD3     3oocoa_c + h_c + nadh_c <=> 3hocoa_c + nad_c\n",
      "1%    0.309   HACD4     3odcoa_c + h_c + nadh_c <=> 3hdcoa_c + nad_c\n",
      "1%    0.309   HACD5     3oddcoa_c + h_c + nadh_c <=> 3hddcoa_c + nad_c\n",
      "1%    0.269   HACD6     3otdcoa_c + h_c + nadh_c <=> 3htdcoa_c + nad_c\n",
      "1%    0.261   HACD7     3ohdcoa_c + h_c + nadh_c <=> 3hhdcoa_c + nad_c\n",
      "0%    0.156   MTHFR2    2.0 h_c + mlthf_c + nadh_c --> 5mthf_c + nad_c\n",
      "0%    0.048   HACD8     3oodcoa_c + h_c + nadh_c <=> 3hodcoa_c + nad_c\n"
     ]
    }
   ],
   "source": [
    "model.metabolites.nadh_c.summary()"
   ]
  },
  {
   "cell_type": "markdown",
   "metadata": {},
   "source": [
    "Checking instead cytosolic atp behavior will give us a sense of the cell's energy production and consumption:"
   ]
  },
  {
   "cell_type": "code",
   "execution_count": 34,
   "metadata": {},
   "outputs": [
    {
     "name": "stdout",
     "output_type": "stream",
     "text": [
      "PRODUCING REACTIONS -- ATP (atp_c)\n",
      "----------------------------------\n",
      "%       FLUX  RXN ID      REACTION\n",
      "---  -------  ----------  --------------------------------------------------\n",
      "70%  56       ATPS4rpp    adp_c + 4.0 h_p + pi_c <=> atp_c + h2o_c + 3.0 h_c\n",
      "20%  15.9     PGK         3pg_c + atp_c <=> 13dpg_c + adp_c\n",
      "5%    4.13    PPKr        atp_c + pi_c <=> adp_c + ppi_c\n",
      "4%    3.42    SUCOAS      atp_c + coa_c + succ_c <=> adp_c + pi_c + succoa_c\n",
      "\n",
      "CONSUMING REACTIONS -- ATP (atp_c)\n",
      "----------------------------------\n",
      "%       FLUX  RXN ID      REACTION\n",
      "---  -------  ----------  --------------------------------------------------\n",
      "67%  53.4     Ec_biom...  0.000223 10fthf_c + 0.000223 2dmmql8_c + 2.5e-0...\n",
      "9%    6.99    PFK         atp_c + f6p_c --> adp_c + fdp_c + h_c\n",
      "4%    3.15    ATPM        atp_c + h2o_c --> adp_c + h_c + pi_c\n",
      "4%    3.09    ADK1        amp_c + atp_c <=> 2.0 adp_c\n",
      "2%    1.71    GLNS        atp_c + glu__L_c + nh4_c --> adp_c + gln__L_c +...\n",
      "1%    1.03    ASPK        asp__L_c + atp_c <=> 4pasp_c + adp_c\n",
      "1%    0.901   PRPPS       atp_c + r5p_c <=> amp_c + h_c + prpp_c\n",
      "1%    0.764   NDPK1       atp_c + gdp_c <=> adp_c + gtp_c\n",
      "1%    0.6     CBMKr       atp_c + co2_c + nh4_c <=> adp_c + cbp_c + 2.0 h_c\n",
      "1%    0.584   ACS         ac_c + atp_c + coa_c --> accoa_c + amp_c + ppi_c\n",
      "1%    0.522   HSK         atp_c + hom__L_c --> adp_c + h_c + phom_c\n",
      "1%    0.429   PRAGSr      atp_c + gly_c + pram_c <=> adp_c + gar_c + h_c ...\n",
      "1%    0.429   PRAIS       atp_c + fpram_c --> adp_c + air_c + 2.0 h_c + pi_c\n",
      "1%    0.429   PRFGS       atp_c + fgam_c + gln__L_c + h2o_c --> adp_c + f...\n",
      "1%    0.429   AIRC2       air_c + atp_c + hco3_c --> 5caiz_c + adp_c + h_...\n",
      "1%    0.429   PRASCSi     5aizc_c + asp__L_c + atp_c --> 25aics_c + adp_c...\n",
      "1%    0.419   NDPK2       atp_c + udp_c <=> adp_c + utp_c\n",
      "0%    0.367   SHKK        atp_c + skm_c --> adp_c + h_c + skm5p_c\n",
      "0%    0.351   UMPK        atp_c + ump_c <=> adp_c + udp_c\n",
      "0%    0.323   ACGK        acglu_c + atp_c --> acg5p_c + adp_c\n",
      "0%    0.284   ARGSS       asp__L_c + atp_c + citr__L_c --> amp_c + argsuc...\n",
      "0%    0.245   ADSK        aps_c + atp_c --> adp_c + h_c + paps_c\n",
      "0%    0.245   SADT2       atp_c + gtp_c + h2o_c + so4_c --> aps_c + gdp_c...\n",
      "0%    0.233   GK1         atp_c + gmp_c <=> adp_c + gdp_c\n",
      "0%    0.233   GMPS2       atp_c + gln__L_c + h2o_c + xmp_c --> amp_c + gl...\n",
      "0%    0.231   ASNS2       asp__L_c + atp_c + nh4_c --> amp_c + asn__L_c +...\n",
      "0%    0.212   GLU5K       atp_c + glu__L_c --> adp_c + glu5p_c\n",
      "0%    0.162   CYTK1       atp_c + cmp_c <=> adp_c + cdp_c\n",
      "0%    0.162   NDPK3       atp_c + cdp_c <=> adp_c + ctp_c\n",
      "0%    0.153   CTPS2       atp_c + gln__L_c + h2o_c + utp_c --> adp_c + ct...\n",
      "0%    0.152   GLGC        atp_c + g1p_c + h_c --> adpglc_c + ppi_c\n",
      "0%    0.12    AACPS3      ACP_c + atp_c + hdca_c --> amp_c + palmACP_c + ...\n",
      "0%    0.0931  AACPS4      ACP_c + atp_c + hdcea_c --> amp_c + hdeACP_c + ...\n",
      "0%    0.0908  ATPPRT      atp_c + prpp_c --> ppi_c + prbatp_c\n",
      "0%    0.048   AACPS5      ACP_c + atp_c + ocdcea_c --> amp_c + octeACP_c ...\n",
      "0%    0.0402  AACPS7      ACP_c + atp_c + ddca_c --> amp_c + ddcaACP_c + ...\n",
      "0%    0.0325  NDPK4       atp_c + dtdp_c <=> adp_c + dttp_c\n",
      "0%    0.0322  ACCOAC      accoa_c + atp_c + hco3_c --> adp_c + h_c + malc...\n",
      "0%    0.0322  GMHEPAT     atp_c + gmhep1p_c + h_c --> adphep__DD_c + ppi_c\n",
      "0%    0.0322  GMHEPK      atp_c + gmhep7p_c --> adp_c + gmhep17bp_c + h_c\n",
      "0%    0.0314  PE160abcpp  atp_c + h2o_c + pe160_c --> adp_c + h_c + pe160...\n",
      "0%    0.0272  UAAGDS      26dap__M_c + atp_c + uamag_c --> adp_c + h_c + ...\n",
      "0%    0.0272  UAMAGS      atp_c + glu__D_c + uama_c --> adp_c + h_c + pi_...\n",
      "0%    0.0272  UAMAS       ala__L_c + atp_c + uamr_c --> adp_c + h_c + pi_...\n",
      "0%    0.0272  UGMDDS      alaala_c + atp_c + ugmd_c --> adp_c + h_c + pi_...\n",
      "0%    0.0245  DTMPK       atp_c + dtmp_c <=> adp_c + dtdp_c\n",
      "0%    0.0245  RNTR1c2     atp_c + 2.0 flxr_c + 2.0 h_c --> datp_c + 2.0 f...\n",
      "0%    0.0244  PE161abcpp  atp_c + h2o_c + pe161_c --> adp_c + h_c + pe161...\n",
      "0%    0.024   ALAALAr     2.0 ala__D_c + atp_c <=> adp_c + alaala_c + h_c...\n",
      "0%    0.0126  PE181abcpp  atp_c + h2o_c + pe181_c --> adp_c + h_c + pe181...\n",
      "0%    0.0106  PG160abcpp  atp_c + h2o_c + pg160_c --> adp_c + h_c + pg160...\n"
     ]
    }
   ],
   "source": [
    "model.metabolites.atp_c.summary()\n"
   ]
  },
  {
   "cell_type": "markdown",
   "metadata": {},
   "source": [
    "# 5) Save and export a model:\n",
    "\n",
    "\n",
    "Model can be saved and exported through the `write_sbml_model()` function, found in the `cobra.io` sub-module. "
   ]
  },
  {
   "cell_type": "code",
   "execution_count": 36,
   "metadata": {},
   "outputs": [],
   "source": [
    "cobra.io.write_sbml_model(model, \"test_model_AC.xml\")"
   ]
  },
  {
   "cell_type": "markdown",
   "metadata": {},
   "source": [
    "# 6) Visualizing results : graph view\n",
    "\n",
    "Visualizing FBA results\n",
    "\n",
    "This function creates a file that can be imported with networkX and visualized as a graph"
   ]
  },
  {
   "cell_type": "code",
   "execution_count": null,
   "metadata": {},
   "outputs": [],
   "source": [
    "def save_flow_graph(model, solution, filename):\n",
    "    \n",
    "    nnz_sol = solution.fluxes.iloc[solution.fluxes.nonzero()]\n",
    "    RXN_Nodes = [r for r , v in nnz_sol.iteritems()]\n",
    "    met_edges_in = { x : [m.id for m in model.reactions.get_by_id(x).reactants] for x in RXN_Nodes}\n",
    "    met_edges_out = { x : [m.id for m in model.reactions.get_by_id(x).products] for x in RXN_Nodes}\n",
    "    \n",
    "    nodef=open(filename, 'w')\n",
    "    for rID , v in met_edges_in.items():\n",
    "        for met in v: \n",
    "            nodef.write(rID+'\\t'+met)\n",
    "            nodef.write(\"\\n\")\n",
    "    for rID , v in met_edges_out.items():\n",
    "        for met in v: \n",
    "            nodef.write(rID+'\\t'+met)\n",
    "            nodef.write(\"\\n\")\n",
    "    nodef.close()\n",
    "    "
   ]
  },
  {
   "cell_type": "markdown",
   "metadata": {},
   "source": [
    "# 6) Visualizing results : ReconMap\n",
    "\n",
    "Visualizing FBA results\n",
    "This function creates a layout file that can be visualized on ReconMap"
   ]
  },
  {
   "cell_type": "code",
   "execution_count": null,
   "metadata": {},
   "outputs": [],
   "source": [
    "import pandas as pd\n",
    "\n",
    "def viz(solution, filename):\n",
    "    nnz_sol = solution.fluxes.iloc[solution.fluxes.nonzero()]\n",
    "    df = pd.DataFrame(columns = ['reactionIdentifier','lineWidth','color'])\n",
    "    df['reactionIdentifier'] = nnz_sol.index\n",
    "    df['lineWidth'] = (nnz_sol - (min(nnz_sol)) / (max(nnz_sol) - min(nnz_sol)) <- #Normalized fluxes \n",
    "    df['color'] = '#FF0000'# red \n",
    "    df.to_csv(filename, sep= '\\t', header = True, index = False)"
   ]
  }
 ],
 "metadata": {
  "kernelspec": {
   "display_name": "Python 3",
   "language": "python",
   "name": "python3"
  },
  "language_info": {
   "codemirror_mode": {
    "name": "ipython",
    "version": 2
   },
   "file_extension": ".py",
   "mimetype": "text/x-python",
   "name": "python",
   "nbconvert_exporter": "python",
   "pygments_lexer": "ipython2",
   "version": "2.7.14"
  }
 },
 "nbformat": 4,
 "nbformat_minor": 2
}
